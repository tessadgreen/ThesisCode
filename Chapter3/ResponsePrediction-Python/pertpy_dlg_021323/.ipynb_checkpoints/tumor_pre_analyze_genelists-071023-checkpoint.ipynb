{
 "cells": [
  {
   "cell_type": "code",
   "execution_count": 221,
   "id": "ad392ca9",
   "metadata": {},
   "outputs": [],
   "source": [
    "import pertpy as pt\n",
    "import pickle as pkl\n",
    "import scanpy as sc\n",
    "import pandas as pd\n",
    "import numpy as np \n",
    "import matplotlib.pyplot as plt\n",
    "import matplotlib as mpl\n",
    "mpl.rcParams['figure.dpi'] = 300\n",
    "import seaborn as sns\n",
    "from scipy import stats\n",
    "from scipy import sparse \n",
    "from statsmodels.sandbox.stats.multicomp import multipletests\n",
    "# works with pertpy 0.4.0 DO NOT UPDATE "
   ]
  },
  {
   "cell_type": "code",
   "execution_count": 85,
   "id": "b0280e5f",
   "metadata": {},
   "outputs": [
    {
     "name": "stdout",
     "output_type": "stream",
     "text": [
      "The autoreload extension is already loaded. To reload it, use:\n",
      "  %reload_ext autoreload\n"
     ]
    },
    {
     "data": {
      "text/html": [
       "<pre style=\"white-space:pre;overflow-x:auto;line-height:normal;font-family:Menlo,'DejaVu Sans Mono',consolas,'Courier New',monospace\"><span style=\"color: #800000; text-decoration-color: #800000; font-weight: bold\">Installed version </span><span style=\"color: #800000; text-decoration-color: #800000; font-weight: bold\">0.4</span><span style=\"color: #800000; text-decoration-color: #800000; font-weight: bold\">.</span><span style=\"color: #800000; text-decoration-color: #800000; font-weight: bold\">0</span><span style=\"color: #800000; text-decoration-color: #800000; font-weight: bold\"> of pertpy is outdated. Newest version is </span><span style=\"color: #800000; text-decoration-color: #800000; font-weight: bold\">0.5</span><span style=\"color: #800000; text-decoration-color: #800000; font-weight: bold\">.</span><span style=\"color: #800000; text-decoration-color: #800000; font-weight: bold\">0</span><span style=\"color: #800000; text-decoration-color: #800000; font-weight: bold\">!</span>\n",
       "</pre>\n"
      ],
      "text/plain": [
       "\u001b[1;31mInstalled version \u001b[0m\u001b[1;31m0.4\u001b[0m\u001b[1;31m.\u001b[0m\u001b[1;31m0\u001b[0m\u001b[1;31m of pertpy is outdated. Newest version is \u001b[0m\u001b[1;31m0.5\u001b[0m\u001b[1;31m.\u001b[0m\u001b[1;31m0\u001b[0m\u001b[1;31m!\u001b[0m\n"
      ]
     },
     "metadata": {},
     "output_type": "display_data"
    },
    {
     "name": "stdout",
     "output_type": "stream",
     "text": [
      "-----\n",
      "anndata             0.8.0\n",
      "matplotlib          3.7.1\n",
      "numpy               1.23.5\n",
      "pandas              1.5.3\n",
      "pertpy              0.4.0\n",
      "scanpy              1.9.3\n",
      "scipy               1.10.1\n",
      "seaborn             0.11.2\n",
      "session_info        1.0.0\n",
      "statsmodels         0.13.5\n",
      "-----\n",
      "PIL                         9.4.0\n",
      "PyQt5                       NA\n",
      "adjustText                  NA\n",
      "appnope                     0.1.3\n",
      "arrow                       1.2.3\n",
      "arviz                       0.14.0\n",
      "asttokens                   NA\n",
      "backcall                    0.2.0\n",
      "certifi                     2022.12.07\n",
      "cffi                        1.15.1\n",
      "cftime                      1.6.2\n",
      "charset_normalizer          3.1.0\n",
      "comm                        0.1.2\n",
      "custom_inherit              2.4.1\n",
      "cycler                      0.10.0\n",
      "cython_runtime              NA\n",
      "dateutil                    2.8.2\n",
      "debugpy                     1.6.6\n",
      "decorator                   5.1.1\n",
      "decoupler                   1.3.4\n",
      "ete3                        3.1.2\n",
      "executing                   1.2.0\n",
      "fontTools                   4.39.0\n",
      "google                      NA\n",
      "h5py                        3.8.0\n",
      "idna                        3.4\n",
      "igraph                      0.10.4\n",
      "importlib_metadata          NA\n",
      "importlib_resources         NA\n",
      "ipykernel                   6.21.3\n",
      "ipywidgets                  8.0.4\n",
      "jax                         0.4.5\n",
      "jaxlib                      0.4.4\n",
      "jedi                        0.18.2\n",
      "jinja2                      3.1.2\n",
      "joblib                      1.2.0\n",
      "kiwisolver                  1.4.4\n",
      "leidenalg                   0.9.1\n",
      "llvmlite                    0.39.1\n",
      "markupsafe                  2.1.2\n",
      "mizani                      0.8.1\n",
      "mpl_toolkits                NA\n",
      "mudata                      0.2.1\n",
      "multipledispatch            0.6.0\n",
      "muon                        0.1.3\n",
      "natsort                     8.3.1\n",
      "netCDF4                     1.6.3\n",
      "numba                       0.56.4\n",
      "numpyro                     0.10.1\n",
      "opt_einsum                  v3.3.0\n",
      "packaging                   23.0\n",
      "palettable                  3.3.0\n",
      "parso                       0.8.3\n",
      "patsy                       0.5.3\n",
      "pexpect                     4.8.0\n",
      "pickleshare                 0.7.5\n",
      "pkg_resources               NA\n",
      "platformdirs                3.1.0\n",
      "plotnine                    0.10.1\n",
      "ply                         3.11\n",
      "png                         0.20220715.0\n",
      "prompt_toolkit              3.0.38\n",
      "psutil                      5.9.4\n",
      "ptyprocess                  0.7.0\n",
      "pure_eval                   0.2.2\n",
      "pycparser                   2.21\n",
      "pydev_ipython               NA\n",
      "pydevconsole                NA\n",
      "pydevd                      2.9.5\n",
      "pydevd_file_utils           NA\n",
      "pydevd_plugins              NA\n",
      "pydevd_tracing              NA\n",
      "pygments                    2.14.0\n",
      "pynndescent                 0.5.8\n",
      "pyomo                       6.5.0\n",
      "pyparsing                   3.0.9\n",
      "pypi_latest                 0.1.2\n",
      "pytz                        2022.7.1\n",
      "pytz_deprecation_shim       NA\n",
      "questionary                 1.10.0\n",
      "reportlab                   3.6.12\n",
      "requests                    2.28.2\n",
      "rich                        NA\n",
      "rpy2                        3.5.10\n",
      "setuptools                  67.5.1\n",
      "sip                         NA\n",
      "six                         1.16.0\n",
      "sklearn                     1.2.1\n",
      "skmisc                      0.1.4\n",
      "sparsecca                   0.3.0\n",
      "stack_data                  0.6.2\n",
      "statannotations             0.5.0\n",
      "switchlang                  0.1.0\n",
      "texttable                   1.6.7\n",
      "threadpoolctl               3.1.0\n",
      "tornado                     6.2\n",
      "toyplot                     1.0.3\n",
      "toytree                     2.0.1\n",
      "tqdm                        4.65.0\n",
      "traitlets                   5.9.0\n",
      "typing_extensions           NA\n",
      "tzlocal                     NA\n",
      "umap                        0.5.3\n",
      "urllib3                     1.26.14\n",
      "wcwidth                     0.2.6\n",
      "xarray                      2023.2.0\n",
      "xarray_einstats             0.5.1\n",
      "yaml                        6.0\n",
      "zipp                        NA\n",
      "zmq                         25.0.0\n",
      "zoneinfo                    NA\n",
      "-----\n",
      "IPython             8.11.0\n",
      "jupyter_client      8.0.3\n",
      "jupyter_core        5.2.0\n",
      "-----\n",
      "Python 3.9.16 | packaged by conda-forge | (main, Feb  1 2023, 21:38:11) [Clang 14.0.6 ]\n",
      "macOS-13.4.1-arm64-arm-64bit\n",
      "-----\n",
      "Session information updated at 2023-08-09 12:00\n"
     ]
    }
   ],
   "source": [
    "%load_ext autoreload\n",
    "%autoreload 2\n",
    "\n",
    "import importlib\n",
    "importlib.reload(pt)\n",
    "\n",
    "import session_info\n",
    "session_info.show(html=False, dependencies=True)"
   ]
  },
  {
   "cell_type": "code",
   "execution_count": 14,
   "id": "753f49fc",
   "metadata": {},
   "outputs": [],
   "source": [
    "def test_association(adata, celltype_label = \"Cluster\", sample_label=\"Sample\", condition_label = \"Efficacy\", conditions_compare = (\"PR\",\"SD\")): \n",
    "    \"\"\"\n",
    "    Tests association between etc \n",
    "    Note: benjamini-hochberg corrects for the number of cell types, NOT the number of MCPs\n",
    "    \"\"\"\n",
    "    \n",
    "    pvals = pd.DataFrame(1, adata.obs[celltype_label].unique(), [\"mcp_\"+str(n) for n in range(0,10)])\n",
    "    tstats = pd.DataFrame(1, adata.obs[celltype_label].unique(), [\"mcp_\"+str(n) for n in range(0,10)])\n",
    "    pvals_adj = pd.DataFrame(1, adata.obs[celltype_label].unique(), [\"mcp_\"+str(n) for n in range(0,10)])\n",
    "    \n",
    "    response = adata.obs.groupby(sample_label)[condition_label].agg(pd.Series.mode)\n",
    "    res = dict()\n",
    "    for celltype in adata.obs[celltype_label].unique():\n",
    "        df = adata.obs[adata.obs[celltype_label]==celltype]\n",
    "\n",
    "        for mcpnum in [\"mcp_\"+str(n) for n in range(0,10)]:\n",
    "            mns = df.groupby(sample_label)[mcpnum].mean()\n",
    "            mns = pd.concat([mns,response],axis=1)\n",
    "            res = stats.ttest_ind(mns[mns[condition_label]==conditions_compare[0]][mcpnum],mns[mns[condition_label]==conditions_compare[1]][mcpnum])\n",
    "            pvals.loc[celltype, mcpnum]=res[1]\n",
    "            tstats.loc[celltype, mcpnum]=res[0]\n",
    "            #return(res)\n",
    "            #\n",
    "    for mcpnum in [\"mcp_\"+str(n) for n in range(0,10)]:\n",
    "        pvals_adj[mcpnum]=multipletests(pvals[mcpnum], method='fdr_bh')[1]\n",
    "    return pvals,tstats,pvals_adj\n",
    "\n",
    "def get_mcp_genes(celltype, results,MCP, threshhold=0.70, focal_celltypes = None):\n",
    "    \"\"\"\n",
    "    Extracts MCP genes for the celltype of interest \n",
    "    Input: \n",
    "    celltype (str): cell type of interest\n",
    "    results (results object from dl.MultilevelModeling) : results object\n",
    "    threshhold (float): number between [0,1]. The fraction of cell types compared against which must have the associated MCP gene\n",
    "    focal_celltypes (None or list): None (compare against all cell types) or a list of other cell types which you want to compare against \n",
    "    \"\"\"\n",
    "    comparisons = results.keys()\n",
    "    comparisons = list(comparisons)\n",
    "    filtered_keys = [key for key in comparisons if celltype in key]\n",
    "    if focal_celltypes is not None:\n",
    "        if celltype in focal_celltypes:\n",
    "            focal_celltypes = [item for item in focal_celltypes if item != celltype]\n",
    "        filtered_keys = [key for key in filtered_keys if any(foci in key for foci in focal_celltypes)]\n",
    "    mcp_dict={}\n",
    "    for key in filtered_keys:\n",
    "        if key.startswith(celltype):\n",
    "            mcp_dict[key.split('_vs_')[1]] = results[key][MCP]['sig_genes_1']\n",
    "        else:\n",
    "            mcp_dict[key.split('_vs_')[0]] = results[key][MCP]['sig_genes_2']\n",
    "    genes_dict_up = {}\n",
    "    genes_dict_down = {}\n",
    "    for celltype2 in mcp_dict.keys():\n",
    "        for gene in mcp_dict[celltype2][MCP+\".up\"]:\n",
    "            if gene in genes_dict_up:\n",
    "                genes_dict_up[gene]+=1\n",
    "            else:\n",
    "                genes_dict_up[gene] = 1\n",
    "        for gene in mcp_dict[celltype2][MCP+\".down\"]:\n",
    "            if gene in genes_dict_down:\n",
    "                genes_dict_down[gene]+=1\n",
    "            else:\n",
    "                genes_dict_down[gene] = 1\n",
    "    up_genes_df =  pd.DataFrame.from_dict(genes_dict_up,orient='index')\n",
    "    down_genes_df = pd.DataFrame.from_dict(genes_dict_down,orient='index')\n",
    "    \n",
    "    min_cell_types = np.floor(len(filtered_keys)*threshhold)\n",
    "    final_output = {}\n",
    "    final_output['up_genes'] = up_genes_df[up_genes_df[0] >= min_cell_types].index.values.tolist()\n",
    "    final_output['down_genes'] = down_genes_df[down_genes_df[0]>=min_cell_types].index.values.tolist()\n",
    "    return(final_output)"
   ]
  },
  {
   "cell_type": "code",
   "execution_count": 6,
   "id": "3ad40762",
   "metadata": {},
   "outputs": [],
   "source": [
    "### IMPORT FROM THE BS SOLVER\n",
    "adata=sc.read_h5ad(\"output/tumor_pre_DLG_normalizeTrue_bssolver_071023.h5ad\")\n",
    "\n",
    "with open(\"output/tumor_pre_DLG_normalizeTrue_bssolver_071023.pkl\", 'rb') as file:\n",
    "    a = pkl.load(file)\n",
    "file.close()\n"
   ]
  },
  {
   "cell_type": "code",
   "execution_count": 7,
   "id": "649c3c47",
   "metadata": {},
   "outputs": [],
   "source": [
    "a['pvals_adj'] = test_association(adata)[2]# interested in MCP_4, MCP_8"
   ]
  },
  {
   "cell_type": "code",
   "execution_count": 17,
   "id": "00e6a3b7",
   "metadata": {},
   "outputs": [],
   "source": [
    "with open(\"output/tumor_pre_DLG_normalizeTrue_bssolver_071023_MCPgenes_fixed.pkl\", 'rb') as file:\n",
    "    dlg_results = pkl.load(file)\n",
    "file.close()\n",
    "\n",
    "with open(\"output/tumor_pre_DLG_normalizeTrue_bssolver_071023_ct_subs_various.pkl\", 'rb') as file:\n",
    "    ct_subs = pkl.load(file)\n",
    "file.close()\n",
    "\n"
   ]
  },
  {
   "cell_type": "code",
   "execution_count": 13,
   "id": "718b834c",
   "metadata": {},
   "outputs": [
    {
     "data": {
      "text/plain": [
       "dict_keys(['t_Bmem-CD27_vs_t_CD4_Tcm-LMNA', 't_Bmem-CD27_vs_t_CD4_Treg-FOXP3', 't_Bmem-CD27_vs_t_CD8_MAIT-KLRB1', 't_Bmem-CD27_vs_t_CD8_Tem-GZMK', 't_Bmem-CD27_vs_t_CD8_Trm-ZNF683', 't_Bmem-CD27_vs_t_Tn-LEF1', 't_Bmem-CD27_vs_t_mono-FCN1', 't_Bmem-CD27_vs_t_pB-IGHG1', 't_CD4_Tcm-LMNA_vs_t_CD4_Treg-FOXP3', 't_CD4_Tcm-LMNA_vs_t_CD8_MAIT-KLRB1', 't_CD4_Tcm-LMNA_vs_t_CD8_Tem-GZMK', 't_CD4_Tcm-LMNA_vs_t_CD8_Trm-ZNF683', 't_CD4_Tcm-LMNA_vs_t_Tn-LEF1', 't_CD4_Tcm-LMNA_vs_t_mono-FCN1', 't_CD4_Tcm-LMNA_vs_t_pB-IGHG1', 't_CD4_Treg-FOXP3_vs_t_CD8_MAIT-KLRB1', 't_CD4_Treg-FOXP3_vs_t_CD8_Tem-GZMK', 't_CD4_Treg-FOXP3_vs_t_CD8_Trm-ZNF683', 't_CD4_Treg-FOXP3_vs_t_Tn-LEF1', 't_CD4_Treg-FOXP3_vs_t_mono-FCN1', 't_CD4_Treg-FOXP3_vs_t_pB-IGHG1', 't_CD8_MAIT-KLRB1_vs_t_CD8_Tem-GZMK', 't_CD8_MAIT-KLRB1_vs_t_CD8_Trm-ZNF683', 't_CD8_MAIT-KLRB1_vs_t_Tn-LEF1', 't_CD8_MAIT-KLRB1_vs_t_mono-FCN1', 't_CD8_MAIT-KLRB1_vs_t_pB-IGHG1', 't_CD8_Tem-GZMK_vs_t_CD8_Trm-ZNF683', 't_CD8_Tem-GZMK_vs_t_Tn-LEF1', 't_CD8_Tem-GZMK_vs_t_mono-FCN1', 't_CD8_Tem-GZMK_vs_t_pB-IGHG1', 't_CD8_Trm-ZNF683_vs_t_Tn-LEF1', 't_CD8_Trm-ZNF683_vs_t_mono-FCN1', 't_CD8_Trm-ZNF683_vs_t_pB-IGHG1', 't_Tn-LEF1_vs_t_mono-FCN1', 't_Tn-LEF1_vs_t_pB-IGHG1', 't_mono-FCN1_vs_t_pB-IGHG1'])"
      ]
     },
     "execution_count": 13,
     "metadata": {},
     "output_type": "execute_result"
    }
   ],
   "source": [
    "dlg_results['all_results'].keys()"
   ]
  },
  {
   "cell_type": "code",
   "execution_count": null,
   "id": "a0e5265a",
   "metadata": {},
   "outputs": [],
   "source": [
    "# for loadings, take the top 50 genes of each top/bottom? numbers are arbitrary so that probably makes sense\n",
    "# for MCP genes use the function you already made\n",
    "# for high/low split use everything with significance above some level \n",
    "\n"
   ]
  },
  {
   "cell_type": "code",
   "execution_count": 93,
   "id": "244f308d",
   "metadata": {},
   "outputs": [],
   "source": []
  },
  {
   "cell_type": "code",
   "execution_count": 117,
   "id": "79566967",
   "metadata": {},
   "outputs": [],
   "source": [
    "#sc.get.rank_genes_groups_df(ct_subs['ct_subs_method2'][celltype], group = \"high\"+1+\" \"+celltype)\n",
    "\n",
    "def get_genes_fixed(ct_subs, mcp=\"mcp_4\", fraction = 0.1):\n",
    "    \"\"\"\n",
    "    Same function as get_genes, but manually add a flag to the .raw saying it's been logarythmized,\n",
    "    set as raw again, then run (needed due to transfer from Seurat)\n",
    "    \"\"\"\n",
    "    genes=dict()\n",
    "    for ct in ct_subs.keys():\n",
    "        mini = ct_subs[ct]\n",
    "        mini = mini.raw.to_adata()\n",
    "        mini.uns['log1p']= {'base': None}\n",
    "        mini.raw = mini\n",
    "        # this is actually normalized and logged I think?\n",
    "        #mini.obs[mcp]\n",
    "        mini.obs['extrema'] =pd.qcut(mini.obs[mcp],[0,0 + fraction,1-fraction,1.0], labels = [\"low \"+mcp+\" \"+ct,\"no\",\"high\"+mcp+\" \"+ct])\n",
    "        sc.tl.rank_genes_groups(mini,\"extrema\", groups = [\"high\"+mcp+\" \"+ct],reference=\"low \"+mcp+\" \"+ct)\n",
    "        genes[ct] = mini#.uns['rank_genes_groups']\n",
    "    return genes"
   ]
  },
  {
   "cell_type": "code",
   "execution_count": 177,
   "id": "e265ad06",
   "metadata": {},
   "outputs": [],
   "source": [
    "def get_genes_fixed_all_mcps(ct_subs, fraction = 0.1):\n",
    "    \"\"\"\n",
    "    Calls get_genes_fixed for all cell types, \n",
    "    returns a dictionary of data frames of gene lists.\n",
    "    \"\"\"\n",
    "    rank_dfs = {}\n",
    "    _, ct_sub = ct_subs.popitem()\n",
    "    mcps = [col for col in ct_sub.obs.columns if col.startswith(\"mcp_\")]\n",
    "\n",
    "    for mcp in mcps:\n",
    "        rank_dfs[mcp] = {}\n",
    "        ct_ranked = get_genes_fixed(ct_subs, mcp = mcp, fraction = fraction)\n",
    "        for celltype in ct_ranked.keys():\n",
    "            rank_dfs[mcp][celltype] = sc.get.rank_genes_groups_df(ct_ranked[celltype], group=None)\n",
    "    return rank_dfs"
   ]
  },
  {
   "cell_type": "code",
   "execution_count": 201,
   "id": "5eaf17eb",
   "metadata": {},
   "outputs": [
    {
     "name": "stdout",
     "output_type": "stream",
     "text": [
      "WARNING: Default of the method has been changed to 't-test' from 't-test_overestim_var'\n",
      "WARNING: Default of the method has been changed to 't-test' from 't-test_overestim_var'\n",
      "WARNING: Default of the method has been changed to 't-test' from 't-test_overestim_var'\n",
      "WARNING: Default of the method has been changed to 't-test' from 't-test_overestim_var'\n",
      "WARNING: Default of the method has been changed to 't-test' from 't-test_overestim_var'\n",
      "WARNING: Default of the method has been changed to 't-test' from 't-test_overestim_var'\n",
      "WARNING: Default of the method has been changed to 't-test' from 't-test_overestim_var'\n",
      "WARNING: Default of the method has been changed to 't-test' from 't-test_overestim_var'\n",
      "WARNING: Default of the method has been changed to 't-test' from 't-test_overestim_var'\n",
      "WARNING: Default of the method has been changed to 't-test' from 't-test_overestim_var'\n",
      "WARNING: Default of the method has been changed to 't-test' from 't-test_overestim_var'\n",
      "WARNING: Default of the method has been changed to 't-test' from 't-test_overestim_var'\n",
      "WARNING: Default of the method has been changed to 't-test' from 't-test_overestim_var'\n",
      "WARNING: Default of the method has been changed to 't-test' from 't-test_overestim_var'\n",
      "WARNING: Default of the method has been changed to 't-test' from 't-test_overestim_var'\n",
      "WARNING: Default of the method has been changed to 't-test' from 't-test_overestim_var'\n",
      "WARNING: Default of the method has been changed to 't-test' from 't-test_overestim_var'\n",
      "WARNING: Default of the method has been changed to 't-test' from 't-test_overestim_var'\n",
      "WARNING: Default of the method has been changed to 't-test' from 't-test_overestim_var'\n",
      "WARNING: Default of the method has been changed to 't-test' from 't-test_overestim_var'\n",
      "WARNING: Default of the method has been changed to 't-test' from 't-test_overestim_var'\n",
      "WARNING: Default of the method has been changed to 't-test' from 't-test_overestim_var'\n",
      "WARNING: Default of the method has been changed to 't-test' from 't-test_overestim_var'\n",
      "WARNING: Default of the method has been changed to 't-test' from 't-test_overestim_var'\n",
      "WARNING: Default of the method has been changed to 't-test' from 't-test_overestim_var'\n",
      "WARNING: Default of the method has been changed to 't-test' from 't-test_overestim_var'\n",
      "WARNING: Default of the method has been changed to 't-test' from 't-test_overestim_var'\n",
      "WARNING: Default of the method has been changed to 't-test' from 't-test_overestim_var'\n",
      "WARNING: Default of the method has been changed to 't-test' from 't-test_overestim_var'\n",
      "WARNING: Default of the method has been changed to 't-test' from 't-test_overestim_var'\n",
      "WARNING: Default of the method has been changed to 't-test' from 't-test_overestim_var'\n",
      "WARNING: Default of the method has been changed to 't-test' from 't-test_overestim_var'\n",
      "WARNING: Default of the method has been changed to 't-test' from 't-test_overestim_var'\n",
      "WARNING: Default of the method has been changed to 't-test' from 't-test_overestim_var'\n",
      "WARNING: Default of the method has been changed to 't-test' from 't-test_overestim_var'\n",
      "WARNING: Default of the method has been changed to 't-test' from 't-test_overestim_var'\n",
      "WARNING: Default of the method has been changed to 't-test' from 't-test_overestim_var'\n",
      "WARNING: Default of the method has been changed to 't-test' from 't-test_overestim_var'\n",
      "WARNING: Default of the method has been changed to 't-test' from 't-test_overestim_var'\n",
      "WARNING: Default of the method has been changed to 't-test' from 't-test_overestim_var'\n",
      "WARNING: Default of the method has been changed to 't-test' from 't-test_overestim_var'\n",
      "WARNING: Default of the method has been changed to 't-test' from 't-test_overestim_var'\n",
      "WARNING: Default of the method has been changed to 't-test' from 't-test_overestim_var'\n",
      "WARNING: Default of the method has been changed to 't-test' from 't-test_overestim_var'\n",
      "WARNING: Default of the method has been changed to 't-test' from 't-test_overestim_var'\n",
      "WARNING: Default of the method has been changed to 't-test' from 't-test_overestim_var'\n",
      "WARNING: Default of the method has been changed to 't-test' from 't-test_overestim_var'\n",
      "WARNING: Default of the method has been changed to 't-test' from 't-test_overestim_var'\n",
      "WARNING: Default of the method has been changed to 't-test' from 't-test_overestim_var'\n",
      "WARNING: Default of the method has been changed to 't-test' from 't-test_overestim_var'\n",
      "WARNING: Default of the method has been changed to 't-test' from 't-test_overestim_var'\n",
      "WARNING: Default of the method has been changed to 't-test' from 't-test_overestim_var'\n",
      "WARNING: Default of the method has been changed to 't-test' from 't-test_overestim_var'\n",
      "WARNING: Default of the method has been changed to 't-test' from 't-test_overestim_var'\n",
      "WARNING: Default of the method has been changed to 't-test' from 't-test_overestim_var'\n",
      "WARNING: Default of the method has been changed to 't-test' from 't-test_overestim_var'\n",
      "WARNING: Default of the method has been changed to 't-test' from 't-test_overestim_var'\n",
      "WARNING: Default of the method has been changed to 't-test' from 't-test_overestim_var'\n",
      "WARNING: Default of the method has been changed to 't-test' from 't-test_overestim_var'\n",
      "WARNING: Default of the method has been changed to 't-test' from 't-test_overestim_var'\n",
      "WARNING: Default of the method has been changed to 't-test' from 't-test_overestim_var'\n",
      "WARNING: Default of the method has been changed to 't-test' from 't-test_overestim_var'\n",
      "WARNING: Default of the method has been changed to 't-test' from 't-test_overestim_var'\n",
      "WARNING: Default of the method has been changed to 't-test' from 't-test_overestim_var'\n",
      "WARNING: Default of the method has been changed to 't-test' from 't-test_overestim_var'\n",
      "WARNING: Default of the method has been changed to 't-test' from 't-test_overestim_var'\n",
      "WARNING: Default of the method has been changed to 't-test' from 't-test_overestim_var'\n",
      "WARNING: Default of the method has been changed to 't-test' from 't-test_overestim_var'\n",
      "WARNING: Default of the method has been changed to 't-test' from 't-test_overestim_var'\n",
      "WARNING: Default of the method has been changed to 't-test' from 't-test_overestim_var'\n"
     ]
    }
   ],
   "source": [
    "rank_dfs = get_genes_fixed_all_mcps(ct_subs['ct_subs_method2'])"
   ]
  },
  {
   "cell_type": "code",
   "execution_count": 202,
   "id": "a501d984",
   "metadata": {},
   "outputs": [
    {
     "ename": "KeyError",
     "evalue": "'t_mono-FCN1'",
     "output_type": "error",
     "traceback": [
      "\u001b[0;31m---------------------------------------------------------------------------\u001b[0m",
      "\u001b[0;31mKeyError\u001b[0m                                  Traceback (most recent call last)",
      "Cell \u001b[0;32mIn[202], line 22\u001b[0m\n\u001b[1;32m     20\u001b[0m genes_dlg[celltype][mcps[n]\u001b[38;5;241m+\u001b[39m\u001b[38;5;124m\"\u001b[39m\u001b[38;5;124m_down\u001b[39m\u001b[38;5;124m\"\u001b[39m] \u001b[38;5;241m=\u001b[39m mcpgenes[\u001b[38;5;124m'\u001b[39m\u001b[38;5;124mdown_genes\u001b[39m\u001b[38;5;124m'\u001b[39m]\n\u001b[1;32m     21\u001b[0m \u001b[38;5;66;03m#extrema high-low split\u001b[39;00m\n\u001b[0;32m---> 22\u001b[0m eg \u001b[38;5;241m=\u001b[39m \u001b[43mrank_dfs\u001b[49m\u001b[43m[\u001b[49m\u001b[38;5;124;43m\"\u001b[39;49m\u001b[38;5;124;43mmcp_\u001b[39;49m\u001b[38;5;124;43m\"\u001b[39;49m\u001b[38;5;241;43m+\u001b[39;49m\u001b[38;5;28;43mstr\u001b[39;49m\u001b[43m(\u001b[49m\u001b[43mn\u001b[49m\u001b[43m)\u001b[49m\u001b[43m]\u001b[49m\u001b[43m[\u001b[49m\u001b[43mcelltype\u001b[49m\u001b[43m]\u001b[49m\u001b[38;5;241m.\u001b[39msort_values(by\u001b[38;5;241m=\u001b[39m\u001b[38;5;124m\"\u001b[39m\u001b[38;5;124mpvals_adj\u001b[39m\u001b[38;5;124m\"\u001b[39m)\u001b[38;5;241m.\u001b[39mhead(\u001b[38;5;241m100\u001b[39m)\n\u001b[1;32m     23\u001b[0m \u001b[38;5;66;03m# keep only if pval_adj <0.01\u001b[39;00m\n\u001b[1;32m     24\u001b[0m eg \u001b[38;5;241m=\u001b[39m eg[eg[\u001b[38;5;124m'\u001b[39m\u001b[38;5;124mpvals_adj\u001b[39m\u001b[38;5;124m'\u001b[39m]\u001b[38;5;241m<\u001b[39m\u001b[38;5;241m0.01\u001b[39m]\n",
      "\u001b[0;31mKeyError\u001b[0m: 't_mono-FCN1'"
     ]
    }
   ],
   "source": [
    "genes_loadings = {}\n",
    "genes_dlg = {}\n",
    "genes_hilo = {}\n",
    "for celltype in ct_subs['ct_subs_loadings'].keys():\n",
    "    dset = ct_subs['ct_subs_loadings'][celltype]\n",
    "    mcps = [\"mcp_\"+str(n) for n in range(0,10)]\n",
    "    genes_loadings[celltype] = dict()\n",
    "    genes_dlg[celltype] = dict()\n",
    "    genes_hilo[celltype] = dict()\n",
    "    for n in range(0,10):\n",
    "        #loadings\n",
    "        contribs = pd.DataFrame(index = dset.var_names, data = dset.varm['MCPs'][:,n], columns= [\"comp\"])\n",
    "        x_lowest = list(contribs.sort_values(by='comp').head(50).index.values)\n",
    "        x_highest= list(contribs.sort_values(by='comp', ascending=False).head(50).index.values)\n",
    "        genes_loadings[celltype][mcps[n]+\"_up\"] = x_highest\n",
    "        genes_loadings[celltype][mcps[n]+\"_down\"] = x_lowest\n",
    "        #dlg\n",
    "        mcpgenes = get_mcp_genes(celltype, dlg_results['all_results'],\"MCP\"+str(n+1), threshhold=0.70, focal_celltypes = None)\n",
    "        genes_dlg[celltype][mcps[n]+\"_up\"] = mcpgenes['up_genes']\n",
    "        genes_dlg[celltype][mcps[n]+\"_down\"] = mcpgenes['down_genes']\n",
    "        #extrema high-low split\n",
    "        eg = rank_dfs[\"mcp_\"+str(n)][celltype].sort_values(by=\"pvals_adj\").head(100)\n",
    "        # keep only if pval_adj <0.01\n",
    "        eg = eg[eg['pvals_adj']<0.01]\n",
    "        genes_hilo[celltype][mcps[n]+\"_up\"] = eg[eg['logfoldchanges']>0]['names'].tolist()\n",
    "        genes_hilo[celltype][mcps[n]+\"_down\"] = eg[eg['logfoldchanges']<0]['names'].tolist()\n",
    "        \n",
    "        "
   ]
  },
  {
   "cell_type": "code",
   "execution_count": 207,
   "id": "7a0e7024",
   "metadata": {},
   "outputs": [
    {
     "data": {
      "text/plain": [
       "dict_keys(['t_Bmem-CD27', 't_CD4_Tcm-LMNA', 't_CD4_Treg-FOXP3', 't_CD8_MAIT-KLRB1', 't_CD8_Tem-GZMK', 't_CD8_Trm-ZNF683', 't_Tn-LEF1'])"
      ]
     },
     "execution_count": 207,
     "metadata": {},
     "output_type": "execute_result"
    }
   ],
   "source": [
    "rank_dfs['mcp_0'].keys()"
   ]
  },
  {
   "cell_type": "code",
   "execution_count": 212,
   "id": "04516bdb",
   "metadata": {},
   "outputs": [
    {
     "data": {
      "text/plain": [
       "9"
      ]
     },
     "execution_count": 212,
     "metadata": {},
     "output_type": "execute_result"
    }
   ],
   "source": [
    "len(ct_subs['ct_subs_loadings'].keys())\n",
    "len(ct_subs['ct_subs_loadings'].keys())\n"
   ]
  },
  {
   "cell_type": "code",
   "execution_count": 161,
   "id": "c02fef37",
   "metadata": {},
   "outputs": [],
   "source": [
    "things = 0 \n",
    "n_up=0\n",
    "n_up_list = []\n",
    "n_down=0\n",
    "n_down_list= []\n",
    "for ct in genes_dlg.keys():\n",
    "    for n in range(0,10):\n",
    "        n_up += len(genes_dlg[ct]['mcp_'+str(n)+'_up'])\n",
    "        n_up_list.append(len(genes_dlg[ct]['mcp_'+str(n)+'_up']))\n",
    "        n_down +=  len(genes_dlg[ct]['mcp_'+str(n)+'_down'])\n",
    "        n_down_list.append(len(genes_dlg[ct]['mcp_'+str(n)+'_down']))\n",
    "        things +=1\n",
    "        \n",
    "## take the top and bottom 50 to match dialogue? or take the top 60 and the bottom 40 to match"
   ]
  },
  {
   "cell_type": "code",
   "execution_count": 162,
   "id": "4edaf4ed",
   "metadata": {},
   "outputs": [
    {
     "data": {
      "text/plain": [
       "(array([10.,  9., 18., 15., 16., 15.,  4.,  1.,  1.,  1.]),\n",
       " array([  0. ,  17.5,  35. ,  52.5,  70. ,  87.5, 105. , 122.5, 140. ,\n",
       "        157.5, 175. ]),\n",
       " <BarContainer object of 10 artists>)"
      ]
     },
     "execution_count": 162,
     "metadata": {},
     "output_type": "execute_result"
    },
    {
     "data": {
      "image/png": "[encoded data removed]",
      "text/plain": [
       "<Figure size 1920x1440 with 1 Axes>"
      ]
     },
     "metadata": {},
     "output_type": "display_data"
    }
   ],
   "source": [
    "plt.hist(n_up_list)"
   ]
  },
  {
   "cell_type": "code",
   "execution_count": 163,
   "id": "282e321e",
   "metadata": {},
   "outputs": [
    {
     "data": {
      "text/plain": [
       "(array([18., 19.,  8., 13.,  6.,  5., 12.,  7.,  1.,  1.]),\n",
       " array([  2. ,  13.7,  25.4,  37.1,  48.8,  60.5,  72.2,  83.9,  95.6,\n",
       "        107.3, 119. ]),\n",
       " <BarContainer object of 10 artists>)"
      ]
     },
     "execution_count": 163,
     "metadata": {},
     "output_type": "execute_result"
    },
    {
     "data": {
      "image/png": "[encoded data removed]",
      "text/plain": [
       "<Figure size 1920x1440 with 1 Axes>"
      ]
     },
     "metadata": {},
     "output_type": "display_data"
    }
   ],
   "source": [
    "plt.hist(n_down_list)"
   ]
  },
  {
   "cell_type": "code",
   "execution_count": 167,
   "id": "1c936711",
   "metadata": {},
   "outputs": [
    {
     "data": {
      "text/plain": [
       "KstestResult(statistic=0.9777461065359446, pvalue=3.6946253999030515e-149, statistic_location=4, statistic_sign=-1)"
      ]
     },
     "execution_count": 167,
     "metadata": {},
     "output_type": "execute_result"
    }
   ],
   "source": [
    "stats.kstest(n_up_list, 'norm')"
   ]
  },
  {
   "cell_type": "code",
   "execution_count": 168,
   "id": "419cbcb4",
   "metadata": {},
   "outputs": [
    {
     "data": {
      "text/plain": [
       "KstestResult(statistic=0.9772498680518208, pvalue=2.6889503480979066e-148, statistic_location=2, statistic_sign=-1)"
      ]
     },
     "execution_count": 168,
     "metadata": {},
     "output_type": "execute_result"
    }
   ],
   "source": [
    "stats.kstest(n_down_list, 'norm')"
   ]
  },
  {
   "cell_type": "code",
   "execution_count": 226,
   "id": "55775b27",
   "metadata": {},
   "outputs": [
    {
     "data": {
      "text/plain": [
       "['DUSP1',\n",
       " 'DUSP5',\n",
       " 'H3F3B',\n",
       " 'RGS1',\n",
       " 'RGS2',\n",
       " 'UBE2S',\n",
       " 'ZNF331',\n",
       " 'DUSP4',\n",
       " 'NR4A2',\n",
       " 'DNAJB1',\n",
       " 'UBC']"
      ]
     },
     "execution_count": 226,
     "metadata": {},
     "output_type": "execute_result"
    }
   ],
   "source": [
    "## Going to take 2 approaches for the high/low split\n",
    "## want everything with the appropriate p_adj "
   ]
  },
  {
   "cell_type": "code",
   "execution_count": 264,
   "id": "72706786",
   "metadata": {},
   "outputs": [],
   "source": [
    "shared = [x for x in genes_dlg['t_Bmem-CD27']['mcp_0_down'] if x in genes_hilo['t_Bmem-CD27']['mcp_0_down']]\n",
    "unique = np.unique(genes_dlg['t_Bmem-CD27']['mcp_0_down'] + genes_hilo['t_Bmem-CD27']['mcp_0_down'])\n",
    "jaccard = len(shared)/len(unique)\n",
    "\n",
    "# either calculate the overall jaccard as bags\n",
    "# or calculate the individual jaccards and average \n",
    "\n",
    "def calc_jaccard(genes_1,genes_2, mcp, sign ):\n",
    "    def get_shared(celltype, MCP=mcp, genes_1 = genes_1, genes_2 = genes_2,sign=sign):\n",
    "        return([x for x in genes_1[celltype][MCP+\"_\"+sign] if x in genes_2[celltype][MCP+\"_\"+sign]])\n",
    "    def get_unique(celltype, MCP=mcp, genes_1 = genes_1, genes_2 = genes_2, sign=sign):\n",
    "        return(np.unique(genes_1[celltype][MCP+\"_\"+sign] + genes_2[celltype][MCP+\"_\"+sign]))\n",
    "    # for each cell type \n",
    "    jaccard = dict()\n",
    "    for celltype in genes_1: \n",
    "        print(celltype)\n",
    "        if celltype in genes_2 # AND SCORES IN OTHER ONE: \n",
    "        jaccard[celltype] = len(get_shared(celltype, mcp, genes_1, genes_2, sign))/len(get_unique(celltype, mcp, genes_1, genes_2,sign))\n",
    "    return(pd.DataFrame.from_dict(jaccard))"
   ]
  },
  {
   "cell_type": "code",
   "execution_count": 265,
   "id": "6c3ae907",
   "metadata": {},
   "outputs": [
    {
     "name": "stdout",
     "output_type": "stream",
     "text": [
      "t_Bmem-CD27\n",
      "t_CD4_Tcm-LMNA\n",
      "t_CD4_Treg-FOXP3\n",
      "t_CD8_MAIT-KLRB1\n",
      "t_CD8_Tem-GZMK\n",
      "t_CD8_Trm-ZNF683\n",
      "t_Tn-LEF1\n",
      "t_mono-FCN1\n"
     ]
    },
    {
     "ename": "KeyError",
     "evalue": "'mcp_1_up'",
     "output_type": "error",
     "traceback": [
      "\u001b[0;31m---------------------------------------------------------------------------\u001b[0m",
      "\u001b[0;31mKeyError\u001b[0m                                  Traceback (most recent call last)",
      "Cell \u001b[0;32mIn[265], line 1\u001b[0m\n\u001b[0;32m----> 1\u001b[0m \u001b[43mcalc_jaccard\u001b[49m\u001b[43m(\u001b[49m\u001b[43mgenes_dlg\u001b[49m\u001b[43m,\u001b[49m\u001b[43mgenes_hilo\u001b[49m\u001b[43m,\u001b[49m\u001b[43m \u001b[49m\u001b[38;5;124;43m\"\u001b[39;49m\u001b[38;5;124;43mmcp_1\u001b[39;49m\u001b[38;5;124;43m\"\u001b[39;49m\u001b[43m,\u001b[49m\u001b[43m \u001b[49m\u001b[43msign\u001b[49m\u001b[38;5;241;43m=\u001b[39;49m\u001b[43m \u001b[49m\u001b[38;5;124;43m\"\u001b[39;49m\u001b[38;5;124;43mup\u001b[39;49m\u001b[38;5;124;43m\"\u001b[39;49m\u001b[43m)\u001b[49m\n",
      "Cell \u001b[0;32mIn[264], line 17\u001b[0m, in \u001b[0;36mcalc_jaccard\u001b[0;34m(genes_1, genes_2, mcp, sign)\u001b[0m\n\u001b[1;32m     15\u001b[0m \u001b[38;5;28;01mfor\u001b[39;00m celltype \u001b[38;5;129;01min\u001b[39;00m genes_1: \n\u001b[1;32m     16\u001b[0m     \u001b[38;5;28mprint\u001b[39m(celltype)\n\u001b[0;32m---> 17\u001b[0m     jaccard[celltype] \u001b[38;5;241m=\u001b[39m \u001b[38;5;28mlen\u001b[39m(\u001b[43mget_shared\u001b[49m\u001b[43m(\u001b[49m\u001b[43mcelltype\u001b[49m\u001b[43m,\u001b[49m\u001b[43m \u001b[49m\u001b[43mmcp\u001b[49m\u001b[43m,\u001b[49m\u001b[43m \u001b[49m\u001b[43mgenes_1\u001b[49m\u001b[43m,\u001b[49m\u001b[43m \u001b[49m\u001b[43mgenes_2\u001b[49m\u001b[43m,\u001b[49m\u001b[43m \u001b[49m\u001b[43msign\u001b[49m\u001b[43m)\u001b[49m)\u001b[38;5;241m/\u001b[39m\u001b[38;5;28mlen\u001b[39m(get_unique(celltype, mcp, genes_1, genes_2,sign))\n\u001b[1;32m     18\u001b[0m \u001b[38;5;28;01mreturn\u001b[39;00m(pd\u001b[38;5;241m.\u001b[39mDataFrame\u001b[38;5;241m.\u001b[39mfrom_dict(jaccard))\n",
      "Cell \u001b[0;32mIn[264], line 10\u001b[0m, in \u001b[0;36mcalc_jaccard.<locals>.get_shared\u001b[0;34m(celltype, MCP, genes_1, genes_2, sign)\u001b[0m\n\u001b[1;32m      9\u001b[0m \u001b[38;5;28;01mdef\u001b[39;00m \u001b[38;5;21mget_shared\u001b[39m(celltype, MCP\u001b[38;5;241m=\u001b[39mmcp, genes_1 \u001b[38;5;241m=\u001b[39m genes_1, genes_2 \u001b[38;5;241m=\u001b[39m genes_2,sign\u001b[38;5;241m=\u001b[39msign):\n\u001b[0;32m---> 10\u001b[0m     \u001b[38;5;28;01mreturn\u001b[39;00m([x \u001b[38;5;28;01mfor\u001b[39;00m x \u001b[38;5;129;01min\u001b[39;00m \u001b[43mgenes_1\u001b[49m\u001b[43m[\u001b[49m\u001b[43mcelltype\u001b[49m\u001b[43m]\u001b[49m\u001b[43m[\u001b[49m\u001b[43mMCP\u001b[49m\u001b[38;5;241;43m+\u001b[39;49m\u001b[38;5;124;43m\"\u001b[39;49m\u001b[38;5;124;43m_\u001b[39;49m\u001b[38;5;124;43m\"\u001b[39;49m\u001b[38;5;241;43m+\u001b[39;49m\u001b[43msign\u001b[49m\u001b[43m]\u001b[49m \u001b[38;5;28;01mif\u001b[39;00m x \u001b[38;5;129;01min\u001b[39;00m genes_2[celltype][MCP\u001b[38;5;241m+\u001b[39m\u001b[38;5;124m\"\u001b[39m\u001b[38;5;124m_\u001b[39m\u001b[38;5;124m\"\u001b[39m\u001b[38;5;241m+\u001b[39msign]])\n",
      "\u001b[0;31mKeyError\u001b[0m: 'mcp_1_up'"
     ]
    }
   ],
   "source": [
    "calc_jaccard(genes_dlg,genes_hilo, \"mcp_1\", sign= \"up\")"
   ]
  },
  {
   "cell_type": "code",
   "execution_count": 267,
   "id": "311ff41a",
   "metadata": {},
   "outputs": [
    {
     "data": {
      "text/plain": [
       "dict_keys(['mcp_0_up', 'mcp_0_down'])"
      ]
     },
     "execution_count": 267,
     "metadata": {},
     "output_type": "execute_result"
    }
   ],
   "source": [
    "genes_dlg['t_mono-FCN1'].keys()"
   ]
  },
  {
   "cell_type": "code",
   "execution_count": 258,
   "id": "d94112b6",
   "metadata": {},
   "outputs": [
    {
     "data": {
      "text/plain": [
       "8"
      ]
     },
     "execution_count": 258,
     "metadata": {},
     "output_type": "execute_result"
    }
   ],
   "source": [
    "len(genes_hilo.keys())"
   ]
  },
  {
   "cell_type": "code",
   "execution_count": null,
   "id": "7a296af4",
   "metadata": {},
   "outputs": [],
   "source": []
  }
 ],
 "metadata": {
  "kernelspec": {
   "display_name": "Python [conda env:pertpy5]",
   "language": "python",
   "name": "conda-env-pertpy5-py"
  },
  "language_info": {
   "codemirror_mode": {
    "name": "ipython",
    "version": 3
   },
   "file_extension": ".py",
   "mimetype": "text/x-python",
   "name": "python",
   "nbconvert_exporter": "python",
   "pygments_lexer": "ipython3",
   "version": "3.9.16"
  }
 },
 "nbformat": 4,
 "nbformat_minor": 5
}
