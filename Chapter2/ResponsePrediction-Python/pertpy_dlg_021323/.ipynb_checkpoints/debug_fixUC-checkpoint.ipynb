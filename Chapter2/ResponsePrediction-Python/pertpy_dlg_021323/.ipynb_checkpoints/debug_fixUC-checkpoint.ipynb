{
 "cells": [
  {
   "cell_type": "code",
   "execution_count": 14,
   "id": "e9735fd9",
   "metadata": {},
   "outputs": [],
   "source": [
    "import pertpy as pt\n",
    "import scanpy as sc\n",
    "import pandas as pd\n",
    "import numpy as np"
   ]
  },
  {
   "cell_type": "code",
   "execution_count": 50,
   "id": "2bc98ed4",
   "metadata": {},
   "outputs": [
    {
     "data": {
      "text/plain": [
       "AnnData object with n_obs × n_vars = 5374 × 6329\n",
       "    obs: 'nCount_RNA', 'nFeature_RNA', 'cellQ', 'gender', 'location', 'clinical.status', 'cell.subtypes', 'pathology', 'origin', 'subset'\n",
       "    var: 'name'"
      ]
     },
     "execution_count": 50,
     "metadata": {},
     "output_type": "execute_result"
    }
   ],
   "source": [
    "adata = pt.dt.dialogue_example()\n",
    "adata"
   ]
  },
  {
   "cell_type": "code",
   "execution_count": 51,
   "id": "22cfe35a",
   "metadata": {},
   "outputs": [],
   "source": [
    "sc.pp.pca(adata)\n",
    "sc.pp.neighbors(adata)\n",
    "sc.tl.umap(adata)"
   ]
  },
  {
   "cell_type": "code",
   "execution_count": 69,
   "id": "e63f1e6a",
   "metadata": {},
   "outputs": [],
   "source": [
    "dl = pt.tl.Dialogue(sample_id = \"Sample\",\n",
    "                   celltype_key = \"cell.subtypes\",\n",
    "                   n_counts_key = \"nCount_RNA\",\n",
    "                   n_mpcs = 3)"
   ]
  },
  {
   "cell_type": "code",
   "execution_count": 70,
   "id": "b43eb7f4",
   "metadata": {},
   "outputs": [],
   "source": [
    "penalties = None\n",
    "ct_order = None\n",
    "agg_pca = True\n",
    "solver = \"lp\"\n",
    "normalize= True"
   ]
  },
  {
   "cell_type": "code",
   "execution_count": 64,
   "id": "19146253",
   "metadata": {},
   "outputs": [],
   "source": [
    "if ct_order is not None:\n",
    "    cell_types = ct_order\n",
    "else:\n",
    "    ct_order = cell_types = adata.obs[dl.celltype_key].astype(\"category\").cat.categories"
   ]
  },
  {
   "cell_type": "code",
   "execution_count": 65,
   "id": "2ed9952e",
   "metadata": {},
   "outputs": [
    {
     "data": {
      "text/plain": [
       "Index(['CD8+ IELs', 'CD8+ IL17+', 'CD8+ LP', 'Macrophages', 'TA2'], dtype='object')"
      ]
     },
     "execution_count": 65,
     "metadata": {},
     "output_type": "execute_result"
    }
   ],
   "source": [
    "ct_order"
   ]
  },
  {
   "cell_type": "code",
   "execution_count": 66,
   "id": "3e82706f",
   "metadata": {},
   "outputs": [],
   "source": [
    "mcca_in, ct_subs = dl.load(adata, ct_order=cell_types, agg_pca=agg_pca, normalize=normalize)"
   ]
  },
  {
   "cell_type": "code",
   "execution_count": 15,
   "id": "e3de78c5",
   "metadata": {},
   "outputs": [
    {
     "data": {
      "text/plain": [
       "(5, 3, 50)"
      ]
     },
     "execution_count": 15,
     "metadata": {},
     "output_type": "execute_result"
    }
   ],
   "source": [
    "np.shape(mcca_in)"
   ]
  },
  {
   "cell_type": "code",
   "execution_count": 16,
   "id": "27697d88",
   "metadata": {},
   "outputs": [],
   "source": [
    "n_samples = mcca_in[0].shape[1]"
   ]
  },
  {
   "cell_type": "code",
   "execution_count": 22,
   "id": "fc55aeeb",
   "metadata": {},
   "outputs": [
    {
     "data": {
      "text/plain": [
       "(5374, 50)"
      ]
     },
     "execution_count": 22,
     "metadata": {},
     "output_type": "execute_result"
    }
   ],
   "source": [
    "adata.obsm['X_pca'].shape"
   ]
  },
  {
   "cell_type": "code",
   "execution_count": 25,
   "id": "bb4524c2",
   "metadata": {},
   "outputs": [
    {
     "data": {
      "text/plain": [
       "50"
      ]
     },
     "execution_count": 25,
     "metadata": {},
     "output_type": "execute_result"
    }
   ],
   "source": [
    "n_samples"
   ]
  },
  {
   "cell_type": "code",
   "execution_count": 26,
   "id": "e0e45be6",
   "metadata": {},
   "outputs": [
    {
     "data": {
      "text/html": [
       "<div>\n",
       "<style scoped>\n",
       "    .dataframe tbody tr th:only-of-type {\n",
       "        vertical-align: middle;\n",
       "    }\n",
       "\n",
       "    .dataframe tbody tr th {\n",
       "        vertical-align: top;\n",
       "    }\n",
       "\n",
       "    .dataframe thead th {\n",
       "        text-align: right;\n",
       "    }\n",
       "</style>\n",
       "<table border=\"1\" class=\"dataframe\">\n",
       "  <thead>\n",
       "    <tr style=\"text-align: right;\">\n",
       "      <th></th>\n",
       "      <th>nCount_RNA</th>\n",
       "      <th>nFeature_RNA</th>\n",
       "      <th>cellQ</th>\n",
       "      <th>gender</th>\n",
       "      <th>location</th>\n",
       "      <th>clinical.status</th>\n",
       "      <th>cell.subtypes</th>\n",
       "      <th>pathology</th>\n",
       "      <th>origin</th>\n",
       "      <th>subset</th>\n",
       "    </tr>\n",
       "    <tr>\n",
       "      <th>index</th>\n",
       "      <th></th>\n",
       "      <th></th>\n",
       "      <th></th>\n",
       "      <th></th>\n",
       "      <th></th>\n",
       "      <th></th>\n",
       "      <th></th>\n",
       "      <th></th>\n",
       "      <th></th>\n",
       "      <th></th>\n",
       "    </tr>\n",
       "  </thead>\n",
       "  <tbody>\n",
       "    <tr>\n",
       "      <th>N7.EpiA.AAACGCACAATCGC</th>\n",
       "      <td>2176.911552</td>\n",
       "      <td>269</td>\n",
       "      <td>0.037467</td>\n",
       "      <td>Female</td>\n",
       "      <td>Epi</td>\n",
       "      <td>Non-inflamed</td>\n",
       "      <td>TA2</td>\n",
       "      <td>True</td>\n",
       "      <td>A</td>\n",
       "      <td>A</td>\n",
       "    </tr>\n",
       "    <tr>\n",
       "      <th>N7.EpiA.AGATATTGATCGGT</th>\n",
       "      <td>4319.159178</td>\n",
       "      <td>660</td>\n",
       "      <td>0.093293</td>\n",
       "      <td>Female</td>\n",
       "      <td>Epi</td>\n",
       "      <td>Non-inflamed</td>\n",
       "      <td>TA2</td>\n",
       "      <td>True</td>\n",
       "      <td>A</td>\n",
       "      <td>A</td>\n",
       "    </tr>\n",
       "    <tr>\n",
       "      <th>N7.EpiA.AGTCTACTTCTCTA</th>\n",
       "      <td>7230.356204</td>\n",
       "      <td>1543</td>\n",
       "      <td>0.242912</td>\n",
       "      <td>Female</td>\n",
       "      <td>Epi</td>\n",
       "      <td>Non-inflamed</td>\n",
       "      <td>TA2</td>\n",
       "      <td>True</td>\n",
       "      <td>A</td>\n",
       "      <td>A</td>\n",
       "    </tr>\n",
       "    <tr>\n",
       "      <th>N7.EpiA.ATATACGAAGTACC</th>\n",
       "      <td>5868.425665</td>\n",
       "      <td>1051</td>\n",
       "      <td>0.155489</td>\n",
       "      <td>Female</td>\n",
       "      <td>Epi</td>\n",
       "      <td>Non-inflamed</td>\n",
       "      <td>TA2</td>\n",
       "      <td>True</td>\n",
       "      <td>A</td>\n",
       "      <td>A</td>\n",
       "    </tr>\n",
       "    <tr>\n",
       "      <th>N7.EpiA.ATCTGTTGTCATTC</th>\n",
       "      <td>3130.076031</td>\n",
       "      <td>432</td>\n",
       "      <td>0.058324</td>\n",
       "      <td>Female</td>\n",
       "      <td>Epi</td>\n",
       "      <td>Non-inflamed</td>\n",
       "      <td>TA2</td>\n",
       "      <td>True</td>\n",
       "      <td>A</td>\n",
       "      <td>A</td>\n",
       "    </tr>\n",
       "    <tr>\n",
       "      <th>...</th>\n",
       "      <td>...</td>\n",
       "      <td>...</td>\n",
       "      <td>...</td>\n",
       "      <td>...</td>\n",
       "      <td>...</td>\n",
       "      <td>...</td>\n",
       "      <td>...</td>\n",
       "      <td>...</td>\n",
       "      <td>...</td>\n",
       "      <td>...</td>\n",
       "    </tr>\n",
       "    <tr>\n",
       "      <th>N110.LPB.TCTTCGGTCACGCATA</th>\n",
       "      <td>3346.150450</td>\n",
       "      <td>492</td>\n",
       "      <td>0.198183</td>\n",
       "      <td>Female</td>\n",
       "      <td>LP</td>\n",
       "      <td>Inflamed</td>\n",
       "      <td>CD8+ IELs</td>\n",
       "      <td>True</td>\n",
       "      <td>NA</td>\n",
       "      <td>C</td>\n",
       "    </tr>\n",
       "    <tr>\n",
       "      <th>N110.LPB.TTAGGCACAATCCAAC</th>\n",
       "      <td>4341.610208</td>\n",
       "      <td>672</td>\n",
       "      <td>0.268843</td>\n",
       "      <td>Female</td>\n",
       "      <td>LP</td>\n",
       "      <td>Inflamed</td>\n",
       "      <td>CD8+ LP</td>\n",
       "      <td>True</td>\n",
       "      <td>NA</td>\n",
       "      <td>C</td>\n",
       "    </tr>\n",
       "    <tr>\n",
       "      <th>N110.LPB.TTGAACGTCGTACGGC</th>\n",
       "      <td>4410.712825</td>\n",
       "      <td>706</td>\n",
       "      <td>0.289367</td>\n",
       "      <td>Female</td>\n",
       "      <td>LP</td>\n",
       "      <td>Inflamed</td>\n",
       "      <td>CD8+ LP</td>\n",
       "      <td>True</td>\n",
       "      <td>NA</td>\n",
       "      <td>C</td>\n",
       "    </tr>\n",
       "    <tr>\n",
       "      <th>N110.LPB.TTGGCAATCCTCCTAG</th>\n",
       "      <td>2755.624716</td>\n",
       "      <td>373</td>\n",
       "      <td>0.149731</td>\n",
       "      <td>Female</td>\n",
       "      <td>LP</td>\n",
       "      <td>Inflamed</td>\n",
       "      <td>CD8+ LP</td>\n",
       "      <td>True</td>\n",
       "      <td>NA</td>\n",
       "      <td>C</td>\n",
       "    </tr>\n",
       "    <tr>\n",
       "      <th>N110.LPB.TTTACTGCATATGGTC</th>\n",
       "      <td>4297.373167</td>\n",
       "      <td>664</td>\n",
       "      <td>0.264132</td>\n",
       "      <td>Female</td>\n",
       "      <td>LP</td>\n",
       "      <td>Inflamed</td>\n",
       "      <td>CD8+ LP</td>\n",
       "      <td>True</td>\n",
       "      <td>NA</td>\n",
       "      <td>C</td>\n",
       "    </tr>\n",
       "  </tbody>\n",
       "</table>\n",
       "<p>5374 rows × 10 columns</p>\n",
       "</div>"
      ],
      "text/plain": [
       "                            nCount_RNA  nFeature_RNA     cellQ  gender  \\\n",
       "index                                                                    \n",
       "N7.EpiA.AAACGCACAATCGC     2176.911552           269  0.037467  Female   \n",
       "N7.EpiA.AGATATTGATCGGT     4319.159178           660  0.093293  Female   \n",
       "N7.EpiA.AGTCTACTTCTCTA     7230.356204          1543  0.242912  Female   \n",
       "N7.EpiA.ATATACGAAGTACC     5868.425665          1051  0.155489  Female   \n",
       "N7.EpiA.ATCTGTTGTCATTC     3130.076031           432  0.058324  Female   \n",
       "...                                ...           ...       ...     ...   \n",
       "N110.LPB.TCTTCGGTCACGCATA  3346.150450           492  0.198183  Female   \n",
       "N110.LPB.TTAGGCACAATCCAAC  4341.610208           672  0.268843  Female   \n",
       "N110.LPB.TTGAACGTCGTACGGC  4410.712825           706  0.289367  Female   \n",
       "N110.LPB.TTGGCAATCCTCCTAG  2755.624716           373  0.149731  Female   \n",
       "N110.LPB.TTTACTGCATATGGTC  4297.373167           664  0.264132  Female   \n",
       "\n",
       "                          location clinical.status cell.subtypes  pathology  \\\n",
       "index                                                                         \n",
       "N7.EpiA.AAACGCACAATCGC         Epi    Non-inflamed           TA2       True   \n",
       "N7.EpiA.AGATATTGATCGGT         Epi    Non-inflamed           TA2       True   \n",
       "N7.EpiA.AGTCTACTTCTCTA         Epi    Non-inflamed           TA2       True   \n",
       "N7.EpiA.ATATACGAAGTACC         Epi    Non-inflamed           TA2       True   \n",
       "N7.EpiA.ATCTGTTGTCATTC         Epi    Non-inflamed           TA2       True   \n",
       "...                            ...             ...           ...        ...   \n",
       "N110.LPB.TCTTCGGTCACGCATA       LP        Inflamed     CD8+ IELs       True   \n",
       "N110.LPB.TTAGGCACAATCCAAC       LP        Inflamed       CD8+ LP       True   \n",
       "N110.LPB.TTGAACGTCGTACGGC       LP        Inflamed       CD8+ LP       True   \n",
       "N110.LPB.TTGGCAATCCTCCTAG       LP        Inflamed       CD8+ LP       True   \n",
       "N110.LPB.TTTACTGCATATGGTC       LP        Inflamed       CD8+ LP       True   \n",
       "\n",
       "                          origin subset  \n",
       "index                                    \n",
       "N7.EpiA.AAACGCACAATCGC         A      A  \n",
       "N7.EpiA.AGATATTGATCGGT         A      A  \n",
       "N7.EpiA.AGTCTACTTCTCTA         A      A  \n",
       "N7.EpiA.ATATACGAAGTACC         A      A  \n",
       "N7.EpiA.ATCTGTTGTCATTC         A      A  \n",
       "...                          ...    ...  \n",
       "N110.LPB.TCTTCGGTCACGCATA     NA      C  \n",
       "N110.LPB.TTAGGCACAATCCAAC     NA      C  \n",
       "N110.LPB.TTGAACGTCGTACGGC     NA      C  \n",
       "N110.LPB.TTGGCAATCCTCCTAG     NA      C  \n",
       "N110.LPB.TTTACTGCATATGGTC     NA      C  \n",
       "\n",
       "[5374 rows x 10 columns]"
      ]
     },
     "execution_count": 26,
     "metadata": {},
     "output_type": "execute_result"
    }
   ],
   "source": [
    "adata.obs"
   ]
  },
  {
   "cell_type": "code",
   "execution_count": 38,
   "id": "13d58b81",
   "metadata": {},
   "outputs": [],
   "source": [
    "meta = pd.read_csv(\"data/all.meta2.txt\", sep=\"\\t\", index_col=0, skiprows=[1])\n",
    "\n"
   ]
  },
  {
   "cell_type": "code",
   "execution_count": 39,
   "id": "68890c4e",
   "metadata": {},
   "outputs": [
    {
     "data": {
      "text/html": [
       "<div>\n",
       "<style scoped>\n",
       "    .dataframe tbody tr th:only-of-type {\n",
       "        vertical-align: middle;\n",
       "    }\n",
       "\n",
       "    .dataframe tbody tr th {\n",
       "        vertical-align: top;\n",
       "    }\n",
       "\n",
       "    .dataframe thead th {\n",
       "        text-align: right;\n",
       "    }\n",
       "</style>\n",
       "<table border=\"1\" class=\"dataframe\">\n",
       "  <thead>\n",
       "    <tr style=\"text-align: right;\">\n",
       "      <th></th>\n",
       "      <th>Cluster</th>\n",
       "      <th>nGene</th>\n",
       "      <th>nUMI</th>\n",
       "      <th>Subject</th>\n",
       "      <th>Health</th>\n",
       "      <th>Location</th>\n",
       "      <th>Sample</th>\n",
       "    </tr>\n",
       "    <tr>\n",
       "      <th>NAME</th>\n",
       "      <th></th>\n",
       "      <th></th>\n",
       "      <th></th>\n",
       "      <th></th>\n",
       "      <th></th>\n",
       "      <th></th>\n",
       "      <th></th>\n",
       "    </tr>\n",
       "  </thead>\n",
       "  <tbody>\n",
       "    <tr>\n",
       "      <th>N7.EpiA.AAACATACACACTG</th>\n",
       "      <td>TA 1</td>\n",
       "      <td>328</td>\n",
       "      <td>891</td>\n",
       "      <td>N7</td>\n",
       "      <td>Non-inflamed</td>\n",
       "      <td>Epi</td>\n",
       "      <td>N7.EpiA</td>\n",
       "    </tr>\n",
       "    <tr>\n",
       "      <th>N7.EpiA.AAACCGTGCATCAG</th>\n",
       "      <td>TA 1</td>\n",
       "      <td>257</td>\n",
       "      <td>663</td>\n",
       "      <td>N7</td>\n",
       "      <td>Non-inflamed</td>\n",
       "      <td>Epi</td>\n",
       "      <td>N7.EpiA</td>\n",
       "    </tr>\n",
       "    <tr>\n",
       "      <th>N7.EpiA.AAACGCACAATCGC</th>\n",
       "      <td>TA 2</td>\n",
       "      <td>300</td>\n",
       "      <td>639</td>\n",
       "      <td>N7</td>\n",
       "      <td>Non-inflamed</td>\n",
       "      <td>Epi</td>\n",
       "      <td>N7.EpiA</td>\n",
       "    </tr>\n",
       "    <tr>\n",
       "      <th>N7.EpiA.AAAGATCTAACCGT</th>\n",
       "      <td>Enterocyte Progenitors</td>\n",
       "      <td>250</td>\n",
       "      <td>649</td>\n",
       "      <td>N7</td>\n",
       "      <td>Non-inflamed</td>\n",
       "      <td>Epi</td>\n",
       "      <td>N7.EpiA</td>\n",
       "    </tr>\n",
       "    <tr>\n",
       "      <th>N7.EpiA.AAAGATCTAGGCGA</th>\n",
       "      <td>Enterocyte Progenitors</td>\n",
       "      <td>284</td>\n",
       "      <td>769</td>\n",
       "      <td>N7</td>\n",
       "      <td>Non-inflamed</td>\n",
       "      <td>Epi</td>\n",
       "      <td>N7.EpiA</td>\n",
       "    </tr>\n",
       "    <tr>\n",
       "      <th>...</th>\n",
       "      <td>...</td>\n",
       "      <td>...</td>\n",
       "      <td>...</td>\n",
       "      <td>...</td>\n",
       "      <td>...</td>\n",
       "      <td>...</td>\n",
       "      <td>...</td>\n",
       "    </tr>\n",
       "    <tr>\n",
       "      <th>N110.LPB.TTTGGTTAGGATGGTC</th>\n",
       "      <td>Macrophages</td>\n",
       "      <td>635</td>\n",
       "      <td>1366</td>\n",
       "      <td>N110</td>\n",
       "      <td>Inflamed</td>\n",
       "      <td>LP</td>\n",
       "      <td>N110.LPB</td>\n",
       "    </tr>\n",
       "    <tr>\n",
       "      <th>N110.LPB.TTTGGTTCACCTCGTT</th>\n",
       "      <td>Plasma</td>\n",
       "      <td>610</td>\n",
       "      <td>2730</td>\n",
       "      <td>N110</td>\n",
       "      <td>Inflamed</td>\n",
       "      <td>LP</td>\n",
       "      <td>N110.LPB</td>\n",
       "    </tr>\n",
       "    <tr>\n",
       "      <th>N110.LPB.TTTGGTTTCGGAAACG</th>\n",
       "      <td>Macrophages</td>\n",
       "      <td>859</td>\n",
       "      <td>1979</td>\n",
       "      <td>N110</td>\n",
       "      <td>Inflamed</td>\n",
       "      <td>LP</td>\n",
       "      <td>N110.LPB</td>\n",
       "    </tr>\n",
       "    <tr>\n",
       "      <th>N110.LPB.TTTGTCAGTTGACGTT</th>\n",
       "      <td>Macrophages</td>\n",
       "      <td>965</td>\n",
       "      <td>2696</td>\n",
       "      <td>N110</td>\n",
       "      <td>Inflamed</td>\n",
       "      <td>LP</td>\n",
       "      <td>N110.LPB</td>\n",
       "    </tr>\n",
       "    <tr>\n",
       "      <th>N110.LPB.TTTGTCATCTGACCTC</th>\n",
       "      <td>CD69+ Mast</td>\n",
       "      <td>559</td>\n",
       "      <td>1156</td>\n",
       "      <td>N110</td>\n",
       "      <td>Inflamed</td>\n",
       "      <td>LP</td>\n",
       "      <td>N110.LPB</td>\n",
       "    </tr>\n",
       "  </tbody>\n",
       "</table>\n",
       "<p>365492 rows × 7 columns</p>\n",
       "</div>"
      ],
      "text/plain": [
       "                                          Cluster  nGene  nUMI Subject  \\\n",
       "NAME                                                                     \n",
       "N7.EpiA.AAACATACACACTG                       TA 1    328   891      N7   \n",
       "N7.EpiA.AAACCGTGCATCAG                       TA 1    257   663      N7   \n",
       "N7.EpiA.AAACGCACAATCGC                       TA 2    300   639      N7   \n",
       "N7.EpiA.AAAGATCTAACCGT     Enterocyte Progenitors    250   649      N7   \n",
       "N7.EpiA.AAAGATCTAGGCGA     Enterocyte Progenitors    284   769      N7   \n",
       "...                                           ...    ...   ...     ...   \n",
       "N110.LPB.TTTGGTTAGGATGGTC             Macrophages    635  1366    N110   \n",
       "N110.LPB.TTTGGTTCACCTCGTT                  Plasma    610  2730    N110   \n",
       "N110.LPB.TTTGGTTTCGGAAACG             Macrophages    859  1979    N110   \n",
       "N110.LPB.TTTGTCAGTTGACGTT             Macrophages    965  2696    N110   \n",
       "N110.LPB.TTTGTCATCTGACCTC              CD69+ Mast    559  1156    N110   \n",
       "\n",
       "                                 Health Location    Sample  \n",
       "NAME                                                        \n",
       "N7.EpiA.AAACATACACACTG     Non-inflamed      Epi   N7.EpiA  \n",
       "N7.EpiA.AAACCGTGCATCAG     Non-inflamed      Epi   N7.EpiA  \n",
       "N7.EpiA.AAACGCACAATCGC     Non-inflamed      Epi   N7.EpiA  \n",
       "N7.EpiA.AAAGATCTAACCGT     Non-inflamed      Epi   N7.EpiA  \n",
       "N7.EpiA.AAAGATCTAGGCGA     Non-inflamed      Epi   N7.EpiA  \n",
       "...                                 ...      ...       ...  \n",
       "N110.LPB.TTTGGTTAGGATGGTC      Inflamed       LP  N110.LPB  \n",
       "N110.LPB.TTTGGTTCACCTCGTT      Inflamed       LP  N110.LPB  \n",
       "N110.LPB.TTTGGTTTCGGAAACG      Inflamed       LP  N110.LPB  \n",
       "N110.LPB.TTTGTCAGTTGACGTT      Inflamed       LP  N110.LPB  \n",
       "N110.LPB.TTTGTCATCTGACCTC      Inflamed       LP  N110.LPB  \n",
       "\n",
       "[365492 rows x 7 columns]"
      ]
     },
     "execution_count": 39,
     "metadata": {},
     "output_type": "execute_result"
    }
   ],
   "source": [
    "meta"
   ]
  },
  {
   "cell_type": "code",
   "execution_count": 45,
   "id": "3f9b7727",
   "metadata": {},
   "outputs": [],
   "source": [
    "meta = meta.loc[adata.obs_names,:]"
   ]
  },
  {
   "cell_type": "code",
   "execution_count": 61,
   "id": "01b9a2ff",
   "metadata": {},
   "outputs": [],
   "source": [
    "adata.obs['Sample']= meta['Sample'].astype(\"category\")"
   ]
  },
  {
   "cell_type": "code",
   "execution_count": 60,
   "id": "cf3ed98a",
   "metadata": {},
   "outputs": [
    {
     "data": {
      "text/plain": [
       "index\n",
       "N7.EpiA.AAACGCACAATCGC        N7.EpiA\n",
       "N7.EpiA.AGATATTGATCGGT        N7.EpiA\n",
       "N7.EpiA.AGTCTACTTCTCTA        N7.EpiA\n",
       "N7.EpiA.ATATACGAAGTACC        N7.EpiA\n",
       "N7.EpiA.ATCTGTTGTCATTC        N7.EpiA\n",
       "                               ...   \n",
       "N110.LPB.TCTTCGGTCACGCATA    N110.LPB\n",
       "N110.LPB.TTAGGCACAATCCAAC    N110.LPB\n",
       "N110.LPB.TTGAACGTCGTACGGC    N110.LPB\n",
       "N110.LPB.TTGGCAATCCTCCTAG    N110.LPB\n",
       "N110.LPB.TTTACTGCATATGGTC    N110.LPB\n",
       "Name: Sample, Length: 5374, dtype: object"
      ]
     },
     "execution_count": 60,
     "metadata": {},
     "output_type": "execute_result"
    }
   ],
   "source": []
  },
  {
   "cell_type": "code",
   "execution_count": 67,
   "id": "0b42626e",
   "metadata": {},
   "outputs": [
    {
     "ename": "ValueError",
     "evalue": "matmul: Input operand 1 has a mismatch in its core dimension 0, with gufunc signature (n?,k),(k,m?)->(n?,m?) (size 107 is different from 42)",
     "output_type": "error",
     "traceback": [
      "\u001b[0;31m---------------------------------------------------------------------------\u001b[0m",
      "\u001b[0;31mValueError\u001b[0m                                Traceback (most recent call last)",
      "Cell \u001b[0;32mIn[67], line 1\u001b[0m\n\u001b[0;32m----> 1\u001b[0m adata, mcps, ws, ct_subs \u001b[38;5;241m=\u001b[39m \u001b[43mdl\u001b[49m\u001b[38;5;241;43m.\u001b[39;49m\u001b[43mcalculate_multifactor_PMD\u001b[49m\u001b[43m(\u001b[49m\n\u001b[1;32m      2\u001b[0m \u001b[43m    \u001b[49m\u001b[43madata\u001b[49m\u001b[43m,\u001b[49m\n\u001b[1;32m      3\u001b[0m \u001b[43m    \u001b[49m\u001b[43mnormalize\u001b[49m\u001b[38;5;241;43m=\u001b[39;49m\u001b[38;5;28;43;01mTrue\u001b[39;49;00m\u001b[43m,\u001b[49m\n\u001b[1;32m      4\u001b[0m \u001b[43m    \u001b[49m\u001b[43msolver\u001b[49m\u001b[38;5;241;43m=\u001b[39;49m\u001b[38;5;124;43m\"\u001b[39;49m\u001b[38;5;124;43mlp\u001b[39;49m\u001b[38;5;124;43m\"\u001b[39;49m\n\u001b[1;32m      5\u001b[0m \u001b[43m)\u001b[49m\n",
      "File \u001b[0;32m~/miniforge3/envs/pertpy5/lib/python3.9/site-packages/pertpy/tools/_dialogue.py:620\u001b[0m, in \u001b[0;36mDialogue.calculate_multifactor_PMD\u001b[0;34m(self, adata, penalties, ct_order, agg_pca, solver, normalize)\u001b[0m\n\u001b[1;32m    618\u001b[0m n_samples \u001b[38;5;241m=\u001b[39m mcca_in[\u001b[38;5;241m0\u001b[39m]\u001b[38;5;241m.\u001b[39mshape[\u001b[38;5;241m1\u001b[39m]\n\u001b[1;32m    619\u001b[0m \u001b[38;5;28;01mif\u001b[39;00m penalties \u001b[38;5;129;01mis\u001b[39;00m \u001b[38;5;28;01mNone\u001b[39;00m:\n\u001b[0;32m--> 620\u001b[0m     penalties \u001b[38;5;241m=\u001b[39m \u001b[43mmulticca_permute\u001b[49m\u001b[43m(\u001b[49m\n\u001b[1;32m    621\u001b[0m \u001b[43m        \u001b[49m\u001b[43mmcca_in\u001b[49m\u001b[43m,\u001b[49m\u001b[43m \u001b[49m\u001b[43mpenalties\u001b[49m\u001b[38;5;241;43m=\u001b[39;49m\u001b[43mnp\u001b[49m\u001b[38;5;241;43m.\u001b[39;49m\u001b[43msqrt\u001b[49m\u001b[43m(\u001b[49m\u001b[43mn_samples\u001b[49m\u001b[43m)\u001b[49m\u001b[43m \u001b[49m\u001b[38;5;241;43m/\u001b[39;49m\u001b[43m \u001b[49m\u001b[38;5;241;43m2\u001b[39;49m\u001b[43m,\u001b[49m\u001b[43m \u001b[49m\u001b[43mnperms\u001b[49m\u001b[38;5;241;43m=\u001b[39;49m\u001b[38;5;241;43m10\u001b[39;49m\u001b[43m,\u001b[49m\u001b[43m \u001b[49m\u001b[43mniter\u001b[49m\u001b[38;5;241;43m=\u001b[39;49m\u001b[38;5;241;43m50\u001b[39;49m\u001b[43m,\u001b[49m\u001b[43m \u001b[49m\u001b[43mstandardize\u001b[49m\u001b[38;5;241;43m=\u001b[39;49m\u001b[38;5;28;43;01mTrue\u001b[39;49;00m\n\u001b[1;32m    622\u001b[0m \u001b[43m    \u001b[49m\u001b[43m)\u001b[49m[\u001b[38;5;124m\"\u001b[39m\u001b[38;5;124mbestpenalties\u001b[39m\u001b[38;5;124m\"\u001b[39m]\n\u001b[1;32m    623\u001b[0m \u001b[38;5;28;01melse\u001b[39;00m:\n\u001b[1;32m    624\u001b[0m     penalties \u001b[38;5;241m=\u001b[39m penalties\n",
      "File \u001b[0;32m~/miniforge3/envs/pertpy5/lib/python3.9/site-packages/sparsecca/_multicca_pmd_permute.py:47\u001b[0m, in \u001b[0;36mmulticca_permute\u001b[0;34m(datasets, penalties, nperms, niter, standardize)\u001b[0m\n\u001b[1;32m     45\u001b[0m cors \u001b[38;5;241m=\u001b[39m np\u001b[38;5;241m.\u001b[39mzeros(shape\u001b[38;5;241m=\u001b[39mpenalty_columns)\n\u001b[1;32m     46\u001b[0m \u001b[38;5;28;01mfor\u001b[39;00m i \u001b[38;5;129;01min\u001b[39;00m \u001b[38;5;28mrange\u001b[39m(penalty_columns):\n\u001b[0;32m---> 47\u001b[0m     ws, ws_init \u001b[38;5;241m=\u001b[39m \u001b[43mmulticca\u001b[49m\u001b[43m(\u001b[49m\u001b[43mdatasets\u001b[49m\u001b[43m,\u001b[49m\u001b[43m \u001b[49m\u001b[43mpenalties\u001b[49m\u001b[38;5;241;43m=\u001b[39;49m\u001b[43mpenalties\u001b[49m\u001b[43m[\u001b[49m\u001b[43m:\u001b[49m\u001b[43m,\u001b[49m\u001b[43m \u001b[49m\u001b[43mi\u001b[49m\u001b[43m]\u001b[49m\u001b[43m,\u001b[49m\u001b[43m \u001b[49m\u001b[43mniter\u001b[49m\u001b[38;5;241;43m=\u001b[39;49m\u001b[43mniter\u001b[49m\u001b[43m)\u001b[49m\n\u001b[1;32m     48\u001b[0m     cors[i] \u001b[38;5;241m=\u001b[39m get_cors(datasets, ws)\n\u001b[1;32m     50\u001b[0m \u001b[38;5;66;03m# permute\u001b[39;00m\n",
      "File \u001b[0;32m~/miniforge3/envs/pertpy5/lib/python3.9/site-packages/sparsecca/_multicca_pmd.py:105\u001b[0m, in \u001b[0;36mmulticca\u001b[0;34m(datasets, penalties, niter, K, standardize, mimic_R)\u001b[0m\n\u001b[1;32m     99\u001b[0m \u001b[38;5;28;01mwhile\u001b[39;00m (\n\u001b[1;32m    100\u001b[0m     curiter \u001b[38;5;241m<\u001b[39m niter\n\u001b[1;32m    101\u001b[0m     \u001b[38;5;129;01mand\u001b[39;00m np\u001b[38;5;241m.\u001b[39mabs(crit_old \u001b[38;5;241m-\u001b[39m crit) \u001b[38;5;241m/\u001b[39m np\u001b[38;5;241m.\u001b[39mabs(crit_old) \u001b[38;5;241m>\u001b[39m \u001b[38;5;241m0.001\u001b[39m\n\u001b[1;32m    102\u001b[0m     \u001b[38;5;129;01mand\u001b[39;00m crit_old \u001b[38;5;241m!=\u001b[39m \u001b[38;5;241m0\u001b[39m\n\u001b[1;32m    103\u001b[0m ):\n\u001b[1;32m    104\u001b[0m     crit_old \u001b[38;5;241m=\u001b[39m crit\n\u001b[0;32m--> 105\u001b[0m     crit \u001b[38;5;241m=\u001b[39m \u001b[43mget_crit\u001b[49m\u001b[43m(\u001b[49m\u001b[43mdatasets\u001b[49m\u001b[43m,\u001b[49m\u001b[43m \u001b[49m\u001b[43mws\u001b[49m\u001b[43m)\u001b[49m\n\u001b[1;32m    107\u001b[0m     storecrits\u001b[38;5;241m.\u001b[39mappend(crit)\n\u001b[1;32m    108\u001b[0m     curiter \u001b[38;5;241m+\u001b[39m\u001b[38;5;241m=\u001b[39m \u001b[38;5;241m1\u001b[39m\n",
      "File \u001b[0;32m~/miniforge3/envs/pertpy5/lib/python3.9/site-packages/sparsecca/_multicca_pmd.py:17\u001b[0m, in \u001b[0;36mget_crit\u001b[0;34m(datasets, ws)\u001b[0m\n\u001b[1;32m     15\u001b[0m \u001b[38;5;28;01mfor\u001b[39;00m ii \u001b[38;5;129;01min\u001b[39;00m \u001b[38;5;28mrange\u001b[39m(\u001b[38;5;241m1\u001b[39m, \u001b[38;5;28mlen\u001b[39m(datasets)):\n\u001b[1;32m     16\u001b[0m     \u001b[38;5;28;01mfor\u001b[39;00m jj \u001b[38;5;129;01min\u001b[39;00m \u001b[38;5;28mrange\u001b[39m(\u001b[38;5;241m0\u001b[39m, ii):\n\u001b[0;32m---> 17\u001b[0m         crit \u001b[38;5;241m=\u001b[39m crit \u001b[38;5;241m+\u001b[39m \u001b[43mws\u001b[49m\u001b[43m[\u001b[49m\u001b[43mii\u001b[49m\u001b[43m]\u001b[49m\u001b[38;5;241;43m.\u001b[39;49m\u001b[43mT\u001b[49m\u001b[43m \u001b[49m\u001b[38;5;241;43m@\u001b[39;49m\u001b[43m \u001b[49m\u001b[43mdatasets\u001b[49m\u001b[43m[\u001b[49m\u001b[43mii\u001b[49m\u001b[43m]\u001b[49m\u001b[38;5;241;43m.\u001b[39;49m\u001b[43mT\u001b[49m\u001b[43m \u001b[49m\u001b[38;5;241;43m@\u001b[39;49m\u001b[43m \u001b[49m\u001b[43mdatasets\u001b[49m\u001b[43m[\u001b[49m\u001b[43mjj\u001b[49m\u001b[43m]\u001b[49m \u001b[38;5;241m@\u001b[39m ws[jj]\n\u001b[1;32m     18\u001b[0m \u001b[38;5;28;01mreturn\u001b[39;00m crit\n",
      "\u001b[0;31mValueError\u001b[0m: matmul: Input operand 1 has a mismatch in its core dimension 0, with gufunc signature (n?,k),(k,m?)->(n?,m?) (size 107 is different from 42)"
     ]
    }
   ],
   "source": [
    "adata, mcps, ws, ct_subs = dl.calculate_multifactor_PMD(\n",
    "    adata,\n",
    "    normalize=True,\n",
    "    solver=\"lp\"\n",
    ")"
   ]
  },
  {
   "cell_type": "code",
   "execution_count": 68,
   "id": "adfeee0c",
   "metadata": {},
   "outputs": [
    {
     "data": {
      "text/plain": [
       "AnnData object with n_obs × n_vars = 5374 × 6329\n",
       "    obs: 'nCount_RNA', 'nFeature_RNA', 'cellQ', 'gender', 'location', 'clinical.status', 'cell.subtypes', 'pathology', 'origin', 'subset', 'Sample'\n",
       "    var: 'name'\n",
       "    uns: 'pca', 'neighbors', 'umap'\n",
       "    obsm: 'X_pca', 'X_umap'\n",
       "    varm: 'PCs'\n",
       "    obsp: 'distances', 'connectivities'"
      ]
     },
     "execution_count": 68,
     "metadata": {},
     "output_type": "execute_result"
    }
   ],
   "source": [
    "adata"
   ]
  },
  {
   "cell_type": "code",
   "execution_count": null,
   "id": "fac2a05a",
   "metadata": {},
   "outputs": [],
   "source": []
  }
 ],
 "metadata": {
  "kernelspec": {
   "display_name": "Python [conda env:pertpy5]",
   "language": "python",
   "name": "conda-env-pertpy5-py"
  },
  "language_info": {
   "codemirror_mode": {
    "name": "ipython",
    "version": 3
   },
   "file_extension": ".py",
   "mimetype": "text/x-python",
   "name": "python",
   "nbconvert_exporter": "python",
   "pygments_lexer": "ipython3",
   "version": "3.9.16"
  }
 },
 "nbformat": 4,
 "nbformat_minor": 5
}
